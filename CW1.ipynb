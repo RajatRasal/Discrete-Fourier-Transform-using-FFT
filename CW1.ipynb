{
 "cells": [
  {
   "cell_type": "markdown",
   "metadata": {},
   "source": [
    "# CW1 - CO202 Algorithms 2"
   ]
  },
  {
   "cell_type": "markdown",
   "metadata": {},
   "source": [
    "## Introduction"
   ]
  },
  {
   "cell_type": "markdown",
   "metadata": {},
   "source": [
    "The Discrete Fourier Transform (DFT) maps tuples $\\mathbf{x}=(x_0,x_1,\\dots,x_{N-1})$ of complex numbers to tuples $\\mathbf{y}=(y_0,y_1,\\dots,y_{N-1})$ of complex numbers satisfying\n",
    "$$\\space y_k:=\\sum_{n=0}^{N-1}x_n e^{-\\frac{2\\pi i}{N}k n}=\\sum_{n=0}^{N-1}x_n (\\cos(2\\pi k n/N)+i\\sin(2\\pi k n/N))$$\n",
    "for $k=0,1,\\dots,N-1$. In the expression above, $i$ denotes the imaginary unit.\n",
    "\n",
    "We will denote the DFT of $\\mathbf{x}$ by $\\mathcal{F}(\\mathbf{x})$. Then, $\\mathcal{F}:\\mathbb{C}^N\\to\\mathbb{C}^N$ is a linear, invertible transformation, where $\\mathbb{C}$ denotes the set of complex numbers. \n",
    "\n",
    "We can recover $\\mathbf{x}$ from $\\mathbf{y}=\\mathcal{F}(\\mathbf{x})$ by computing\n",
    "$$x_k=\\frac{1}{N}\\sum_{n=0}^{N-1}y_n e^{\\frac{2\\pi i}{N}k n}$$\n",
    "for $k=0,1,\\dots,N-1$. This formula leads to a simple way of computing $\\mathbf{x}$ from $\\mathbf{y}=\\mathcal{F}(\\mathbf{x})$ that only requires an algorithm for the forward DFT $\\mathcal{F}$. More precisely, we have\n",
    "\n",
    "$$x_k = \\frac{\\textrm{swap}\\left(\\mathcal{F}(\\textrm{swap}(\\mathbf{y}))_k\\right)}{N}$$\n",
    "\n",
    "for $k=0,1,\\dots,N-1$, where $\\textrm{swap}(a+bi)=b+ai$.\n",
    "\n",
    "The DFT has many practical applications in computer science and electrical engineering. It is widely used in signal and image processing, and it even makes a crucial appearance in the fastest known algorithm for multiplying large integers. Because of this, it is of the utmost interest to find efficient algorithms for computing it.\n",
    "\n",
    "Currently, the most efficient algorithm for computing the DFT is called the Fast Fourier Transform (FFT). It has runtime $O(N\\log N)$ (if one assumes arithmetic operations take time $O(1)$), and is an important example of the divide-and-conquer approach to algorithm design. As a consequence, by the discussion above, there is also an algorithm computing the inverse DFT with runtime $O(N\\log N)$."
   ]
  },
  {
   "cell_type": "code",
   "execution_count": 1,
   "metadata": {
    "collapsed": true
   },
   "outputs": [],
   "source": [
    "import numpy as np\n",
    "import matplotlib.pyplot as plt"
   ]
  },
  {
   "cell_type": "markdown",
   "metadata": {},
   "source": [
    "## Exercise 1 (warmup)\n",
    "\n",
    "Assuming arithmetic operations take time $O(1)$, write a Python program below for computing $\\mathcal{F}(\\mathbf{x})$ on input $\\mathbf{x}\\in\\mathbb{C}^N$ in time $O(N^2)$. Briefly argue that the runtime of the proposed algorithm is indeed $O(N^2)$."
   ]
  },
  {
   "cell_type": "code",
   "execution_count": 2,
   "metadata": {
    "collapsed": true
   },
   "outputs": [],
   "source": [
    "def naiveDFT(x):\n",
    "    N = len(x)\n",
    "    # commented out the assertion for timing function\n",
    "    # assert N == 0 or np.log2(N) % 2 == 0\n",
    "    k_nth_term = lambda k, n : x[n] * np.complex(np.cos(2 * np.pi * k * n / N),\n",
    "                                                 np.sin(2 * np.pi * k * n / N))\n",
    "    return np.array([sum(k_nth_term(k, n) for n in range(N)) for k in range(N)])"
   ]
  },
  {
   "cell_type": "markdown",
   "metadata": {},
   "source": [
    "So in order to determine $\\mathbf{y}[k]$, where $k\\in{0,1,\\dots,N-1}$, we apply the **```k_nth_term```** function (line 5) to each element in **x** and calculate the sum of each result. **```k_nth_term```**$=\\mathcal{O}(c + d)$, where $\\mathcal{O}(c)$ is the time complexity of accessesing the **n**th index in **x** and $\\mathcal{O}(d)$ is the time complexity of the constant-time operation for calculating the general form of Eular's identity. \n",
    "\n",
    "Since $\\mathbf{y, x}\\in\\mathbb{C}^N\\land\\mathbf{y}=\\mathcal{F}(\\mathbf{x})\\land\\mathcal{len}(\\mathbf{y})=\\mathcal{len}(\\mathbf{x})$, in order to access each position in **y**, we will need to perform **N** (line 2) accesses. Each element in **y** is a function of every element in **x**:<br><br>\n",
    "\n",
    "<center>\n",
    "**```y[k] = sum(k_nth_term(k, n) for n in range(N))```**\n",
    "$$\n",
    "\\begin{align}\n",
    "&= \\sum_{n=0}^{N-1}\\mathcal{O}(c + d) \\\\\n",
    "&= \\sum_{n=0}^{N-1} C & (*)\\\\\n",
    "\\end{align}\n",
    "$$\n",
    "</center>\n",
    "\n",
    "\n",
    "We perform the above calculation for all values of $k\\in{0,1,\\dots,N-1}$, we get the following nested sum which is implemented by a nested for loop (line 7): \n",
    "\n",
    "$$\n",
    "\\begin{align}\n",
    "\\mathcal{F}(x) &= \\sum_{k=0}^{N-1}\\sum_{n=0}^{N-1}\\mathcal{C} & \\text{from }(*)\\\\\n",
    "&= \\sum_{k=0}^{N-1}(N-1)\\mathcal{C} \\\\\n",
    "&= (N-1)(N-1)\\mathcal{C} \\\\\n",
    "&= (N^2 - 2N + 1)\\mathcal{C} \\\\\n",
    "&= (N^2 - 2N + 1)\\mathcal{C} \\\\\n",
    "&= \\mathcal{O}(N^2) & \\text{as } N\\rightarrow\\infty\n",
    "\\end{align}\n",
    "$$"
   ]
  },
  {
   "cell_type": "code",
   "execution_count": 3,
   "metadata": {},
   "outputs": [
    {
     "name": "stdout",
     "output_type": "stream",
     "text": [
      "[15.+0.00000000e+00j -3.-6.00000000e+00j -5.+2.20436424e-15j\n",
      " -3.+6.00000000e+00j]\n"
     ]
    },
    {
     "data": {
      "text/plain": [
       "array([1.+0.j])"
      ]
     },
     "execution_count": 3,
     "metadata": {},
     "output_type": "execute_result"
    }
   ],
   "source": [
    "print(naiveDFT(np.array([1,2,4,8])))\n",
    "naiveDFT([])\n",
    "naiveDFT([1])"
   ]
  },
  {
   "cell_type": "markdown",
   "metadata": {},
   "source": [
    "## Exercise 2 (FFT)\n",
    "\n",
    "In this exercise, you will implement the Cooley-Tukey FFT algorithm, which computes $\\mathcal{F}(\\mathbf{x})$ on input $\\mathbf{x}\\in\\mathbb{C}^N$ in time $O(N\\log N)$ when $N$ is a power of $2$.\n",
    "\n",
    "Suppose that $N$ is a power of $2$, i.e., we have $N=2^r$ for some non-negative integer $r$. For $\\mathbf{x}=(x_0,x_1,\\dots,x_{N-1})$, define\n",
    "\n",
    "$$\\mathbf{x}_{\\mathsf{odd}}=(x_1,x_3,x_5,\\dots,x_{N-1})\\in\\mathbb{C}^{N/2},$$\n",
    "and\n",
    "$$\\mathbf{x}_{\\mathsf{even}}=(x_0,x_2,x_4,\\dots,x_{N-2})\\in\\mathbb{C}^{N/2}.$$\n",
    "\n",
    "Let $\\mathbf{y}$, $\\mathbf{y}_{\\mathsf{odd}}$, and $\\mathbf{y}_{\\mathsf{even}}$ be the DFT's of $\\mathbf{x}$, $\\mathbf{x}_{\\mathsf{odd}}$, and $\\mathbf{x}_{\\mathsf{even}}$, respectively. From the properties of $\\mathcal{F}$, we can derive the identities\n",
    "\n",
    "$$\\mathbf{y}_k=(\\mathbf{y}_{\\mathsf{even}})_k+e^{-\\frac{2\\pi i}{N}k}(\\mathbf{y}_{\\mathsf{odd}})_k,$$\n",
    "and\n",
    "$$\\mathbf{y}_{k+N/2}=(\\mathbf{y}_{\\mathsf{even}})_k-e^{-\\frac{2\\pi i}{N}k}(\\mathbf{y}_{\\mathsf{odd}})_k$$\n",
    "for $k=0,1,\\dots,N/2-1$.\n",
    "\n",
    "Using a divide-and-conquer approach and the two identities above, write a Python program below that computes $\\mathbf{y}=\\mathcal{F}(\\mathbf{x})$ in time $O(N\\log N)$. You may assume that the length $N$ of the input $\\mathbf{x}$ is always a power of $2$.\n",
    "\n",
    "In order to check whether your program returns correct values, you can consult the following website\n",
    "\n",
    "http://scistatcalc.blogspot.com/2013/12/fft-calculator.html\n",
    "\n",
    "Note that some small numerical inaccuracies may be observed. In particular, your program should return\n",
    "\n",
    "$$\\textrm{FFT}(1,2,4,8)=(15,-3+6i,-5,-3-6i).$$"
   ]
  },
  {
   "cell_type": "code",
   "execution_count": 4,
   "metadata": {
    "collapsed": true
   },
   "outputs": [],
   "source": [
    "def FFT(x):\n",
    "    N = len(x)\n",
    "    \n",
    "    # commented out the assertion for timing function\n",
    "    # assert N == 0 or np.log2(N) % 2 == 0\n",
    "    \n",
    "    def FFThelper(x, N):\n",
    "        if (N <= 1):\n",
    "            return x\n",
    "        \n",
    "        y = np.zeros(N, dtype=np.complex_)\n",
    "        evens = FFThelper(x[::2], N//2)\n",
    "        odds = FFThelper(x[1::2], N//2)\n",
    "        \n",
    "        for k in range(N//2):\n",
    "            c = np.complex(np.cos(2 * np.pi * k / N),\n",
    "                           np.sin(2 * np.pi * k / N))\n",
    "            y[k] = evens[k] + c * odds[k]\n",
    "            y[k + (N//2)] = evens[k] - c * odds[k]\n",
    "        \n",
    "        return y\n",
    "    \n",
    "    return np.array(x) if (not N) else FFThelper(x, N)"
   ]
  },
  {
   "cell_type": "markdown",
   "metadata": {},
   "source": [
    "## Exercise 3 (runtime comparison)\n",
    "\n",
    "In this exercise, you will compare the runtime of the two algorithms you implemented in Exercises 1 and 2.\n",
    "\n",
    "Run the algorithms you implemented in Exercises 1 and 2 and plot their runtimes on the inputs below\n",
    "\n",
    "np.ones(8)\n",
    "\n",
    "np.ones(32)\n",
    "\n",
    "np.ones(64)\n",
    "\n",
    "np.ones(128)\n",
    "\n",
    "np.ones(256)\n",
    "\n",
    "np.ones(512)\n",
    "\n",
    "np.ones(1024)"
   ]
  },
  {
   "cell_type": "code",
   "execution_count": 5,
   "metadata": {},
   "outputs": [
    {
     "data": {
      "text/plain": [
       "<matplotlib.legend.Legend at 0x1088c9080>"
      ]
     },
     "execution_count": 5,
     "metadata": {},
     "output_type": "execute_result"
    },
    {
     "data": {
      "image/png": "[encoded data removed]",
      "text/plain": [
       "<matplotlib.figure.Figure at 0x10877ca90>"
      ]
     },
     "metadata": {},
     "output_type": "display_data"
    }
   ],
   "source": [
    "%matplotlib inline\n",
    "from timeit import timeit\n",
    "\n",
    "x = [8, 32, 64, 128, 256, 512, 1024]\n",
    "\n",
    "setup = \"\"\"\n",
    "from __main__ import {}\n",
    "import numpy as np\n",
    "n = np.ones({})\n",
    "N = len(n)\n",
    "assert N == 0 or np.log2(N) % 1 == 0\n",
    "\"\"\"\n",
    "times = lambda name, x : [timeit(\"{}(n)\".format(name), setup=setup.format(name, n), number=1) \n",
    "                          for n in x]\n",
    "\n",
    "ex1_times = times(naiveDFT.__name__, x)\n",
    "ex2_times = times(FFT.__name__, x)\n",
    "\n",
    "plt.plot(x, ex1_times, color=\"blue\", label=\"naiveDFT\") \n",
    "plt.plot(x, ex2_times, color=\"orange\", label=\"Cooley-Tukey\")\n",
    "plt.legend()"
   ]
  },
  {
   "cell_type": "markdown",
   "metadata": {},
   "source": [
    "## Exercise 4 (application)\n",
    "\n",
    "In this exercise, you will implement your very own efficient image compression method based on the DFT from scratch.\n",
    "\n",
    "The 2-dimensional DFT of an $N_1\\times N_2$ matrix $X=(X_{n_1,n_2})$ is an $N_1\\times N_2$ matrix $Y=(Y_{k_1,k_2})$ satisfying\n",
    "\n",
    "$$Y_{k_1,k_2}=\\sum_{n_1=0}^{N_1-1}\\sum_{n_2=0}^{N_2-1}e^{-2\\pi i\\left(\\frac{k_1n_1}{N_1}+\\frac{k_2n_2}{N_2}\\right)}X_{n_1,n_2}$$\n",
    "\n",
    "for every $k_1=0,1,\\dots,N_1-1$ and $k_2=0,1,\\dots,N_2-1$. Similarly to the 1-dimensional case, we may also write $Y=\\mathcal{F}(X)$.\n",
    "\n",
    "-  ## Exercise 4.1\n",
    "    The 2-dimensional DFT $\\mathcal{F}(X)$ can be easily computed using only the 1-dimensional DFT via the so-called row-column algorithm, which we describe below. For a matrix $M$, let $M_{i,\\cdot}$ denote the $i$-th row of $M$, and let $M_{\\cdot, j}$ denote the $j$-th column of $M$.\n",
    "    \n",
    "    - On input an $N_1\\times N_2$ matrix $X$, compute $\\mathcal{F}(X_{i,\\cdot})$ for $i=0,1,\\dots,N_1-1$. Let $Z$ be the $N_1\\times N_2$ matrix such that $Z_{i,\\cdot}=\\mathcal{F}(X_{i,\\cdot})$.\n",
    "    \n",
    "    - For each $j=0,1,\\dots,N_2-1$, compute $\\mathcal{F}(Z_{\\cdot,j})$. Let $Y$ be the $N_1\\times N_2$ matrix such that $Y_{\\cdot,j}=\\mathcal{F}(Z_{\\cdot,j})$. Then, we have $Y=\\mathcal{F}(X)$.\n",
    "    \n",
    "   Assuming $N_1$ and $N_2$ are powers of $2$, implement below the row-column algorithm for computing the 2-dimensional DFT of $X$ using the FFT algorithm from Exercise 2."
   ]
  },
  {
   "cell_type": "code",
   "execution_count": 6,
   "metadata": {},
   "outputs": [
    {
     "data": {
      "text/plain": [
       "True"
      ]
     },
     "execution_count": 6,
     "metadata": {},
     "output_type": "execute_result"
    }
   ],
   "source": [
    "def FFT2(x):\n",
    "    assert x.ndim == 2\n",
    "    return np.apply_along_axis(FFT, 1, np.apply_along_axis(FFT, 0, x))\n",
    "\n",
    "np.array_equal(FFT2(np.ones((8,8))), np.fft.fft2(np.ones((8,8))))"
   ]
  },
  {
   "cell_type": "markdown",
   "metadata": {},
   "source": [
    "-  ## Exercise 4.2\n",
    "    Recall from the Introduction that, in the 1-dimensional case with $\\mathbf{x},\\mathbf{y}\\in\\mathbb{C}^N$ and $\\mathcal{F}(\\mathbf{x})=\\mathbf{y}$, we have\n",
    "    \n",
    "    $$x_k = \\frac{\\textrm{swap}\\left(\\mathcal{F}(\\textrm{swap}(\\mathbf{y}))_k\\right)}{N}$$\n",
    "\n",
    "    for $k=0,1,\\dots,N-1$, where $\\textrm{swap}(a+bi)=b+ai$.\n",
    "    \n",
    "    Combining this observation with the row-column algorithm described in Exercise 4.1, implement an algorithm that recovers $X\\in\\mathbb{C}^{N_1\\times N_2}$ from $Y=\\mathcal{F}(X)$ in time $O(N_1N_2\\log(N_1N_2))$ whenever $N_1$ and $N_2$ are powers of $2$. Argue why the runtime of your algorithm is as required."
   ]
  },
  {
   "cell_type": "code",
   "execution_count": 7,
   "metadata": {},
   "outputs": [],
   "source": [
    "def swap(z):\n",
    "    return complex(z.imag, z.real)\n",
    "    \n",
    "def invFFT1(y):\n",
    "    assert y.ndim == 2\n",
    "    a, b = y.shape\n",
    "    assert np.log2(a) % 1 == 0 and np.log2(b) % 1 == 0\n",
    "    \n",
    "    swap_row = lambda row : np.array([swap(i) for i in row], dtype=np.complex_) / a\n",
    "    swap_matrix = lambda m : np.apply_along_axis(swap_row, 1, m)\n",
    "    \n",
    "    return swap_matrix(FFT2(swap_matrix(y)))"
   ]
  },
  {
   "cell_type": "code",
   "execution_count": 8,
   "metadata": {},
   "outputs": [
    {
     "data": {
      "text/plain": [
       "True"
      ]
     },
     "execution_count": 8,
     "metadata": {},
     "output_type": "execute_result"
    }
   ],
   "source": [
    "y = np.fft.fft2(np.ones((4,4)))\n",
    "np.array_equal(np.fft.ifft2(y), invFFT1(y))"
   ]
  },
  {
   "cell_type": "markdown",
   "metadata": {},
   "source": [
    "-  ## Exercise 4.3\n",
    "    You are now all set to implement the DFT-based image compression method. This method receives as input a matrix $X$ (which encodes a grayscale image) and a threshold $t>0$, and works as follows:\n",
    "    \n",
    "    -  Compute $Y=\\mathcal{F}(X)$ using the algorithm from Exercise 4.1.\n",
    "    \n",
    "    -  Compute $\\tilde{Y}$ from $Y$ by setting $\\tilde{Y}_{k_1,k_2}=0$ if $|Y_{k_1,k_2}|<t$, and $\\tilde{Y}_{k_1,k_2}=Y_{k_1,k_2}$ otherwise. Here, $|z|=\\sqrt{a^2+b^2}$ is the modulus of a complex number $z=a+bi$.\n",
    "    \n",
    "    - Invert $\\tilde{Y}$ using the algorithm from Exercise 4.2 to obtain $\\tilde{X}$, which encodes the compressed image.\n",
    "    \n",
    "   Implement this algorithm."
   ]
  },
  {
   "cell_type": "code",
   "execution_count": 9,
   "metadata": {},
   "outputs": [],
   "source": [
    "def compressFFT(x, t):\n",
    "    compute_pixel = lambda z : 0 if (np.absolute(z) < t) else z\n",
    "    compress_v_func = np.vectorize(compute_pixel, otypes=[np.complex_])\n",
    "    return invFFT1(compress_v_func(FFT2(x)))"
   ]
  },
  {
   "cell_type": "markdown",
   "metadata": {},
   "source": [
    "-  ## Exercise 4.4\n",
    "\n",
    "    To conclude, you will compress the image below\n",
    "    \n",
    "    ![title](turing.png)\n",
    "    \n",
    "    Apply your DFT-based compression method to the image above. Experiment with different thresholds, and showcase some of your attempts! You will find some code below for converting a grayscale image into an array, and for converting the output of the compression algorithm into a grayscale image."
   ]
  },
  {
   "cell_type": "code",
   "execution_count": 10,
   "metadata": {},
   "outputs": [],
   "source": [
    "from PIL import Image\n",
    "\n",
    "def compress_image(t):\n",
    "    img = Image.open('./turing.png').convert('L')\n",
    "    img_array = np.array(img)\n",
    "    img_array_complex = img_array.astype(np.complex_)\n",
    "    \n",
    "    #compressed_img_array is the output of your compression algorithm\n",
    "    compressed_img_array = compressFFT(img_array_complex, t)\n",
    "    \n",
    "    #discard the imaginary part and round the values in your array to the nearest integer\n",
    "    compressed_img_array_int = compressed_img_array.astype(np.uint8)\n",
    "\n",
    "    #convert the rounded array into a grayscale image\n",
    "    compressed_img = Image.fromarray(compressed_img_array_int, 'L')\n",
    "    \n",
    "    #save the image\n",
    "    compressed_img.save('./turing_compressed_{}.png'.format(t))"
   ]
  },
  {
   "cell_type": "code",
   "execution_count": 11,
   "metadata": {},
   "outputs": [
    {
     "name": "stderr",
     "output_type": "stream",
     "text": [
      "/Users/rajatrasal/anaconda3/lib/python3.6/site-packages/ipykernel/__main__.py:12: ComplexWarning: Casting complex values to real discards the imaginary part\n"
     ]
    },
    {
     "data": {
      "text/html": [
       "\n",
       "<table>\n",
       "    <tr><th><center>Uncompressed</center></th><th><center>Compressed, t=10</center></th></tr>\n",
       "    <tr><td><img src='turing.png'></td><td><img src='turing_compressed_10.png'></td></tr>\n",
       "</table>\n",
       "\n",
       "<table>\n",
       "    <tr><th><center>Uncompressed</center></th><th><center>Compressed, t=100</center></th></tr>\n",
       "    <tr><td><img src='turing.png'></td><td><img src='turing_compressed_100.png'></td></tr>\n",
       "</table>\n",
       "\n",
       "<table>\n",
       "    <tr><th><center>Uncompressed</center></th><th><center>Compressed, t=1000</center></th></tr>\n",
       "    <tr><td><img src='turing.png'></td><td><img src='turing_compressed_1000.png'></td></tr>\n",
       "</table>\n",
       "\n",
       "<table>\n",
       "    <tr><th><center>Uncompressed</center></th><th><center>Compressed, t=10000</center></th></tr>\n",
       "    <tr><td><img src='turing.png'></td><td><img src='turing_compressed_10000.png'></td></tr>\n",
       "</table>\n"
      ],
      "text/plain": [
       "<IPython.core.display.HTML object>"
      ]
     },
     "metadata": {},
     "output_type": "display_data"
    }
   ],
   "source": [
    "from IPython.display import HTML, display\n",
    "\n",
    "images_comparison = \"\"\"\n",
    "<table>\n",
    "    <tr><th><center>Uncompressed</center></th><th><center>Compressed, t={}</center></th></tr>\n",
    "    <tr><td><img src='turing.png'></td><td><img src='turing_compressed_{}.png'></td></tr>\n",
    "</table>\n",
    "\"\"\"\n",
    "html = \"\"\n",
    "\n",
    "ts = [10, 100, 1000, 10000]\n",
    "\n",
    "for t in ts:\n",
    "    compress_image(t)\n",
    "    html += images_comparison.format(t, t)\n",
    "    \n",
    "display(HTML(html))"
   ]
  }
 ],
 "metadata": {
  "kernelspec": {
   "display_name": "Python [default]",
   "language": "python",
   "name": "python3"
  },
  "language_info": {
   "codemirror_mode": {
    "name": "ipython",
    "version": 3
   },
   "file_extension": ".py",
   "mimetype": "text/x-python",
   "name": "python",
   "nbconvert_exporter": "python",
   "pygments_lexer": "ipython3",
   "version": "3.6.6"
  }
 },
 "nbformat": 4,
 "nbformat_minor": 2
}
